{
 "cells": [
  {
   "cell_type": "code",
   "execution_count": 1,
   "metadata": {},
   "outputs": [],
   "source": [
    "import numpy as np \n",
    "import itertools"
   ]
  },
  {
   "cell_type": "code",
   "execution_count": 2,
   "metadata": {},
   "outputs": [],
   "source": [
    "\n",
    "class SetupDeterministicTransitionByStateSet2Agent(object):\n",
    "    def __init__(self, stateSet, actionSet, goalStates = []):\n",
    "        self.stateSet = stateSet\n",
    "        # create a joint state set from a single agent state set, add terminal state to the set\n",
    "        self.jointStateSet = [(s1, s2) for s1, s2 in itertools.product(stateSet, stateSet) if s1 != s2] + ['terminal']\n",
    "        self.jointActionSet = list(itertools.product(actionSet, actionSet))\n",
    "        self.goalStates = goalStates\n",
    "\n",
    "    def __call__(self):\n",
    "        transitionTable = {state: self.getStateTransition(state) for state in self.jointStateSet}\n",
    "        return (transitionTable)\n",
    "\n",
    "    def getStateTransition(self, state):\n",
    "        actionTransitionDistribution = {action: self.getStateActionTransition(state, action) for action in\n",
    "                                        self.jointActionSet}\n",
    "        return (actionTransitionDistribution)\n",
    "\n",
    "    def getStateActionTransition(self, currentState, action):\n",
    "        reachedGoalState = any([currentPos in self.goalStates for currentPos in currentState])\n",
    "        if currentState == 'terminal' or reachedGoalState:\n",
    "            transitionDistribution = {'terminal': 1.0}\n",
    "        else:\n",
    "            transitionDistribution = self.getTransitionDistribution(currentState, action)\n",
    "        return (transitionDistribution)\n",
    "\n",
    "    def getTransitionDistribution(self, state, action):\n",
    "        # if you directly apply the action to the current state, what the potential next state for each agent is\n",
    "        potentialNextState = tuple([self.addTuples(agentS, agentA) for agentS, agentA in zip(state, action)])\n",
    "        agent1NextState = potentialNextState[0]\n",
    "        agent2NextState = potentialNextState[1]\n",
    "\n",
    "        agent1Fixed = False\n",
    "        agent2Fixed = False\n",
    "        # if a move takes you off the board, you cannot take it and instead that agent remains stationary, if fixed = true, that agent must remain stationary\n",
    "        if agent1NextState not in self.stateSet:\n",
    "            agent1NextState = state[0]\n",
    "            agent1Fixed = True\n",
    "        if agent2NextState not in self.stateSet:\n",
    "            agent2NextState = state[1]\n",
    "            agent2Fixed = True\n",
    "\n",
    "        # resulting joint state from taking into account moves off the board - is it a viable move\n",
    "        onBoardPotentialNextState = (agent1NextState, agent2NextState)\n",
    "\n",
    "        # if it is viable, agents will not collide and it should be in the joint state set\n",
    "        if onBoardPotentialNextState in self.jointStateSet:\n",
    "            return ({onBoardPotentialNextState: 1.0})\n",
    "\n",
    "        # if it is not in the joint state set, there is a collision\n",
    "        if agent1NextState == agent2NextState:\n",
    "            # collision 1: one agent runs into the stationary other\n",
    "            if action[0] == (0, 0) or action[1] == (0, 0):\n",
    "                return ({state: 1.0})\n",
    "            # collision 2: one agent tries to move off the board (and must stay stationary), the other collides into it there\n",
    "            elif agent1Fixed or agent2Fixed:\n",
    "                return ({state: 1.0})\n",
    "            # collision 3: a collision on the board, probabilistically sample who moves and who stays\n",
    "            else:\n",
    "                agent1Moves = (agent1NextState, state[1])\n",
    "                agent2Moves = (state[0], agent2NextState)\n",
    "                return ({agent1Moves: .5, agent2Moves: .5})\n",
    "\n",
    "    def addTuples(self, tuple1, tuple2):\n",
    "        lengthOfShorterTuple = min(len(tuple1), len(tuple2))\n",
    "        summedTuple = tuple([tuple1[i] + tuple2[i] for i in range(lengthOfShorterTuple)])\n",
    "        return (summedTuple)\n",
    "\n",
    "    \n",
    "class SetupRewardTable2AgentDistanceCost(object):\n",
    "    def __init__(self, transitionTable, goalStates = [], trapStates = []):\n",
    "        self.transitionTable = transitionTable\n",
    "        self.goalStates = goalStates\n",
    "        self.trapStates = trapStates\n",
    "        \n",
    "    def __call__(self, goalReward = 10, trapCost = -100, costOfNoMovement = .1):\n",
    "        rewardTable = {state:{action: {nextState: self.applyRewardFunction(state, action, nextState, goalReward, trapCost, costOfNoMovement) \\\n",
    "                                        for nextState in nextStateDict.keys()} \n",
    "                                for action, nextStateDict in actionDict.items()} \n",
    "                        for state, actionDict in self.transitionTable.items()}\n",
    "        return(rewardTable)\n",
    "\n",
    "    def applyRewardFunction(self, state, action, nextState, goalReward, trapCost, costOfNoMovement):\n",
    "        # terminal state has no reward or cost\n",
    "        if state == 'terminal':\n",
    "            return(0)\n",
    "        #Unless already in the terminal state, incur the cost of action\n",
    "        movementCosts = self.getCosts(state, action, costOfNoMovement)\n",
    "        \n",
    "        # if the intended next state is a special tile, \n",
    "        # the cost/reward of s, a, s' corresponds to the value of that tile\n",
    "        specialTileCosts = self.getSpecialTileRewards(nextState, trapCost, goalReward)\n",
    "        return(movementCosts + specialTileCosts)\n",
    "\n",
    "    def getSpecialTileRewards(self, state, trapCost, goalReward):\n",
    "        # if the next state is a special tile, the agent receives the rewards/costs of that location\n",
    "        agent1State = state[0]\n",
    "        agent2State = state[1]\n",
    "        #get special rewards -- if either state is the goal state or the trap state\n",
    "        reward = 0\n",
    "\n",
    "        if (agent1State in self.goalStates) or (agent2State in self.goalStates):\n",
    "            reward = reward + abs(goalReward)\n",
    "        if agent1State in self.trapStates or agent2State in self.trapStates:\n",
    "            reward = reward - abs(trapCost)\n",
    "        return(reward)\n",
    "\n",
    "    def getCosts(self, state, action, costOfNoMovement):\n",
    "        # move costs - if in the goal state, no move cost \n",
    "        # because transition will move agent to terminal state no matter what\n",
    "        agent1State = state[0]\n",
    "        agent2State = state[1]\n",
    "        if agent1State in self.goalStates or agent2State in self.goalStates:\n",
    "            moveCost = 0\n",
    "        else:\n",
    "            moveCost = sum([self.getCostOfDistance(agentAction, costOfNoMovement) \n",
    "                for agentAction in action])\n",
    "        return(moveCost)\n",
    "\n",
    "    def getCostOfDistance(self, action, costOfNoMovement, nullAction = (0,0)):\n",
    "        #Need to fix this for two agents\n",
    "        if action == nullAction:\n",
    "            return(-abs(costOfNoMovement))\n",
    "        else:\n",
    "            actionDistance = sum([abs(actionCoordinate) for actionCoordinate in action])\n",
    "            return(-actionDistance)\n",
    "\n",
    "import math\n",
    "\n",
    "class BoltzmannValueIteration(object):\n",
    "    def __init__(self, transitionTable, rewardTable, valueTable, convergenceTolerance, discountingFactor, beta):\n",
    "        self.transitionTable = transitionTable\n",
    "        self.rewardTable  = rewardTable\n",
    "        self.valueTable = valueTable\n",
    "        self.convergenceTolerance = convergenceTolerance\n",
    "        self.gamma = discountingFactor\n",
    "        self.beta = beta\n",
    "\n",
    "    def __call__(self):\n",
    "        \n",
    "        delta = self.convergenceTolerance*100\n",
    "        while(delta > self.convergenceTolerance):\n",
    "            delta = 0\n",
    "            for state, actionDict in self.transitionTable.items():\n",
    "                valueOfStateAtTimeT = self.valueTable[state]\n",
    "                qforAllActions = [self.getQValue(state, action) for action in actionDict.keys()]\n",
    "                self.valueTable[state] = max(qforAllActions) \n",
    "                delta = max(delta, abs(valueOfStateAtTimeT-self.valueTable[state]))\n",
    "        policyTable = {state:self.getBoltzmannPolicy(state) for state in self.transitionTable.keys()}\n",
    "\n",
    "        return([self.valueTable, policyTable])\n",
    "    \n",
    "    def getBoltzmannPolicy(self, state, printStatments = False):\n",
    "        exponents = [self.beta*self.getQValue(state, action) for action in self.transitionTable[state].keys()]\n",
    "        actions = [action for action in self.transitionTable[state].keys()]\n",
    "\n",
    "        # Scale to [0,700] if there are exponents larger than 700\n",
    "        if len([exponent for exponent in exponents if exponent>700])>0:\n",
    "            if printStatments:\n",
    "                print(\"scaling exponents to [0,700]... On State:\")\n",
    "                print(state)\n",
    "            exponents = [700*(exponent/max(exponents)) for exponent in exponents]\n",
    "\n",
    "        statePolicy = {action: math.exp(exponent) for exponent, action in zip(exponents,actions)}\n",
    "        normalizedPolicy = self.normalizeDictionaryValues(statePolicy)\n",
    "        return(normalizedPolicy)\n",
    "\n",
    "    def getQValue(self, state, action):\n",
    "        nextStatesQ = [prob*(self.rewardTable[state][action][nextState] \\\n",
    "                             + self.gamma*self.valueTable[nextState]) \\\n",
    "                      for nextState, prob in self.transitionTable[state][action].items()]\n",
    "\n",
    "        qValue = sum(nextStatesQ)\n",
    "        return(qValue)\n",
    "    \n",
    "    def normalizeDictionaryValues(self, unnormalizedDictionary):\n",
    "        totalSum = sum(unnormalizedDictionary.values())\n",
    "        normalizedDictionary = {originalKey: val/totalSum for originalKey, val in unnormalizedDictionary.items()}\n",
    "        return(normalizedDictionary)\n",
    "\n",
    "\n"
   ]
  },
  {
   "cell_type": "code",
   "execution_count": 3,
   "metadata": {},
   "outputs": [],
   "source": [
    "gridNumberX = 5\n",
    "gridNumberY = 5\n",
    "states = list(itertools.product(range(gridNumberX), range(gridNumberY)))\n",
    "actions = [(-1, 0), (0, 1), (1, 0), (0, -1), (0, 0)]\n",
    "\n",
    "# unambiguous goals\n",
    "# goals = [(4, 2), (0, 3)]\n",
    "# goals = [(4, 0), (2, 3)]\n",
    "\n",
    "# ambiguous goals\n",
    "goals = [(1, 4), (2, 1)]\n",
    "gettransition = SetupDeterministicTransitionByStateSet2Agent(states, actions, goals)\n",
    "transitionTable = gettransition()\n",
    "\n",
    "getReward = SetupRewardTable2AgentDistanceCost(transitionTable, goals)\n",
    "rewardTable = getReward()\n",
    "\n",
    "convergence = .000001\n",
    "gamma = .95\n",
    "valueTable = {state: 0 for state in transitionTable.keys()}\n",
    "beta = 3\n",
    "\n",
    "performValueIteration = BoltzmannValueIteration(transitionTable, rewardTable, valueTable, convergence, gamma, beta)\n",
    "optimalValues, policy = performValueIteration()\n",
    "\n",
    "initialState = ((0, 0), (4, 4))\n",
    "\n",
    "states = list(itertools.product(range(gridNumberX), range(gridNumberY)))\n",
    "\n"
   ]
  },
  {
   "cell_type": "code",
   "execution_count": 4,
   "metadata": {},
   "outputs": [],
   "source": [
    "actionSpace = [(-1, 0), (1, 0), (0, 1), (0, -1), (0,0)]\n",
    "policy_initState = policy[initialState]"
   ]
  },
  {
   "cell_type": "code",
   "execution_count": 5,
   "metadata": {},
   "outputs": [
    {
     "data": {
      "text/plain": [
       "{(-1, 0): 0.021482853568032607,\n",
       " (1, 0): 0.318687597543442,\n",
       " (0, 1): 0.318687597543442,\n",
       " (0, -1): 0.021482853568032607,\n",
       " (0, 0): 0.31965909777705115}"
      ]
     },
     "execution_count": 5,
     "metadata": {},
     "output_type": "execute_result"
    }
   ],
   "source": [
    "{action1: sum([policy_initState[(action1, action2)] for action2 in actionSpace]) for action1 in actionSpace}"
   ]
  },
  {
   "cell_type": "code",
   "execution_count": 6,
   "metadata": {},
   "outputs": [
    {
     "data": {
      "text/plain": [
       "{(-1, 0): 0.318687597543442,\n",
       " (1, 0): 0.03810529223482553,\n",
       " (0, 1): 0.03810529223482553,\n",
       " (0, -1): 0.03810529223482553,\n",
       " (0, 0): 0.5669965257520818}"
      ]
     },
     "execution_count": 6,
     "metadata": {},
     "output_type": "execute_result"
    }
   ],
   "source": [
    "{action2: sum([policy_initState[(action1, action2)] for action1 in actionSpace]) for action2 in actionSpace}"
   ]
  },
  {
   "cell_type": "code",
   "execution_count": null,
   "metadata": {},
   "outputs": [],
   "source": []
  },
  {
   "cell_type": "code",
   "execution_count": 7,
   "metadata": {},
   "outputs": [
    {
     "data": {
      "text/plain": [
       "{(-1, 0): 0.016879879554834595,\n",
       " (1, 0): 0.016879879554834595,\n",
       " (0, 1): 0.016879879554834595,\n",
       " (0, -1): 0.016879879554834595,\n",
       " (0, 0): 0.2511680793241036}"
      ]
     },
     "execution_count": 7,
     "metadata": {},
     "output_type": "execute_result"
    }
   ],
   "source": [
    "{action2: policy_initState[((1, 0), action2)] for action2 in actionSpace}"
   ]
  },
  {
   "cell_type": "code",
   "execution_count": 8,
   "metadata": {},
   "outputs": [
    {
     "data": {
      "text/plain": [
       "{(-1, 0): 0.016879879554834595,\n",
       " (1, 0): 0.0002574408880416658,\n",
       " (0, 1): 0.0002574408880416658,\n",
       " (0, -1): 0.0002574408880416658,\n",
       " (0, 0): 0.0038306513490730144}"
      ]
     },
     "execution_count": 8,
     "metadata": {},
     "output_type": "execute_result"
    }
   ],
   "source": [
    "{action2: policy_initState[((0, -1), action2)] for action2 in actionSpace}"
   ]
  },
  {
   "cell_type": "code",
   "execution_count": 9,
   "metadata": {},
   "outputs": [
    {
     "data": {
      "text/plain": [
       "{(-1, 0): 0.2511680793241036,\n",
       " (1, 0): 0.0038306513490730144,\n",
       " (0, 1): 0.0038306513490730144,\n",
       " (0, -1): 0.0038306513490730144,\n",
       " (0, 0): 0.056999064405728515}"
      ]
     },
     "execution_count": 9,
     "metadata": {},
     "output_type": "execute_result"
    }
   ],
   "source": [
    "{action2: policy_initState[((0, 0), action2)] for action2 in actionSpace}"
   ]
  },
  {
   "cell_type": "code",
   "execution_count": null,
   "metadata": {},
   "outputs": [],
   "source": []
  },
  {
   "cell_type": "code",
   "execution_count": 11,
   "metadata": {},
   "outputs": [
    {
     "data": {
      "text/plain": [
       "False"
      ]
     },
     "execution_count": 11,
     "metadata": {},
     "output_type": "execute_result"
    }
   ],
   "source": [
    "a = (4,4)\n",
    "b = [(2,3), (1,2), (1,1)]\n",
    "a in b"
   ]
  },
  {
   "cell_type": "code",
   "execution_count": 12,
   "metadata": {},
   "outputs": [
    {
     "name": "stdout",
     "output_type": "stream",
     "text": [
      "a\n",
      "1\n",
      "b\n",
      "2\n"
     ]
    }
   ],
   "source": [
    "a = {'a': 1, 'b': 2}\n",
    "for i in a.keys():\n",
    "    print(i)\n",
    "    print(a[i])"
   ]
  },
  {
   "cell_type": "code",
   "execution_count": 17,
   "metadata": {},
   "outputs": [
    {
     "data": {
      "text/plain": [
       "array([[1, 2],\n",
       "       [2, 3]])"
      ]
     },
     "execution_count": 17,
     "metadata": {},
     "output_type": "execute_result"
    }
   ],
   "source": [
    "np.unique([(1,2), (1,2),(2,3)], axis = 0)"
   ]
  },
  {
   "cell_type": "code",
   "execution_count": null,
   "metadata": {},
   "outputs": [],
   "source": []
  },
  {
   "cell_type": "code",
   "execution_count": 21,
   "metadata": {},
   "outputs": [
    {
     "data": {
      "text/plain": [
       "{((-1, 0), (-1, 0)): 0.2,\n",
       " ((1, 0), (-1, 0)): 0.2,\n",
       " ((0, -1), (-1, 0)): 0.2,\n",
       " ((0, 1), (-1, 0)): 0.2,\n",
       " ((0, 0), (-1, 0)): 0.2}"
      ]
     },
     "execution_count": 21,
     "metadata": {},
     "output_type": "execute_result"
    }
   ],
   "source": [
    "agent1ActionDist =  {(-1, 0): 0.2, (1, 0): 0.2, (0, -1): 0.2, (0, 1): 0.2, (0, 0): 0.2}\n",
    "agent2ActionDist =  {(-1, 0): 1}\n",
    "\n",
    "actionDist = {(agent1Action, agent2Action): agent1ActionDist[agent1Action] * agent2ActionDist[agent2Action]\n",
    "              for agent1Action in list(agent1ActionDist.keys()) for agent2Action in list(agent2ActionDist.keys())}\n",
    "actionDist"
   ]
  },
  {
   "cell_type": "code",
   "execution_count": 25,
   "metadata": {},
   "outputs": [
    {
     "data": {
      "text/plain": [
       "[('a', 'b'), (1, 2)]"
      ]
     },
     "execution_count": 25,
     "metadata": {},
     "output_type": "execute_result"
    }
   ],
   "source": [
    "list(zip(*a.items()))"
   ]
  },
  {
   "cell_type": "code",
   "execution_count": null,
   "metadata": {},
   "outputs": [],
   "source": [
    "\n",
    "def getTransitionWithSingleStateActionPair(self, state, action):\n",
    "    agent1CurrentState, agent2CurrentState = state\n",
    "    agent1Action, agent2Action = action\n",
    "    agent1NextState, agent2NextState = self.addTuples(agent1CurrentState, agent1Action)\n",
    "\n",
    "    agent1Fixed = False\n",
    "    agent2Fixed = False\n",
    "    # if a move takes you off the board, you cannot take it and instead that agent remains stationary, if fixed = true, that agent must remain stationary\n",
    "    if agent1NextState not in self.stateSet:\n",
    "        agent1NextState = state[0]\n",
    "        agent1Fixed = True\n",
    "    if agent2NextState not in self.stateSet:\n",
    "        agent2NextState = state[1]\n",
    "        agent2Fixed = True\n",
    "\n",
    "    # resulting joint state from taking into account moves off the board - is it a viable move\n",
    "    onBoardPotentialNextState = (agent1NextState, agent2NextState)\n",
    "\n",
    "    # if it is viable, agents will not collide and it should be in the joint state set\n",
    "    if onBoardPotentialNextState in self.jointStateSet:\n",
    "        return ({onBoardPotentialNextState: 1.0})\n",
    "\n",
    "    # if it is not in the joint state set, there is a collision\n",
    "    if agent1NextState == agent2NextState:\n",
    "        # collision 1: one agent runs into the stationary other\n",
    "        if action[0] == (0, 0) or action[1] == (0, 0):\n",
    "            return ({state: 1.0})\n",
    "        # collision 2: one agent tries to move off the board (and must stay stationary), the other collides into it there\n",
    "        elif agent1Fixed or agent2Fixed:\n",
    "            return ({state: 1.0})\n",
    "        # collision 3: a collision on the board, probabilistically sample who moves and who stays\n",
    "        else:\n",
    "            agent1Moves = (agent1NextState, agent2CurrentState)\n",
    "            agent2Moves = (agent1CurrentState, agent2NextState)\n",
    "            return ({agent1Moves: .5, agent2Moves: .5})\n"
   ]
  },
  {
   "cell_type": "code",
   "execution_count": null,
   "metadata": {},
   "outputs": [],
   "source": [
    "list(zip(*a.items()))"
   ]
  },
  {
   "cell_type": "code",
   "execution_count": 32,
   "metadata": {},
   "outputs": [],
   "source": [
    "a = {(1,0): 1, (1,1): 2}\n",
    "b = {(1,9): 3, (1,1): 4}\n",
    "l = [a,b]"
   ]
  },
  {
   "cell_type": "code",
   "execution_count": 33,
   "metadata": {},
   "outputs": [
    {
     "data": {
      "text/plain": [
       "[[((1, 0), (1, 1)), (1, 2)], [((1, 9), (1, 1)), (3, 4)]]"
      ]
     },
     "execution_count": 33,
     "metadata": {},
     "output_type": "execute_result"
    }
   ],
   "source": [
    "[list(zip(*li.items())) for li in l]"
   ]
  },
  {
   "cell_type": "code",
   "execution_count": 34,
   "metadata": {},
   "outputs": [
    {
     "data": {
      "text/plain": [
       "[[(1, 0), (1, 1)], [(1, 9), (1, 1)]]"
      ]
     },
     "execution_count": 34,
     "metadata": {},
     "output_type": "execute_result"
    }
   ],
   "source": [
    "[list(li.keys()) for li in l]"
   ]
  },
  {
   "cell_type": "code",
   "execution_count": 37,
   "metadata": {},
   "outputs": [
    {
     "data": {
      "text/plain": [
       "array([[[1, 0],\n",
       "        [1, 1]],\n",
       "\n",
       "       [[1, 9],\n",
       "        [1, 1]]])"
      ]
     },
     "execution_count": 37,
     "metadata": {},
     "output_type": "execute_result"
    }
   ],
   "source": [
    "np.unique([list(li.keys()) for li in l], axis = 1)"
   ]
  },
  {
   "cell_type": "code",
   "execution_count": 61,
   "metadata": {},
   "outputs": [
    {
     "data": {
      "text/plain": [
       "{(1, 0): 1, (1, 1): 6, (1, 9): 3}"
      ]
     },
     "execution_count": 61,
     "metadata": {},
     "output_type": "execute_result"
    }
   ],
   "source": [
    "k = np.unique(np.concatenate([list(li.keys()) for li in l]), axis = 0)\n",
    "{tuple(ki): sum([dic.get(tuple(ki), 0) for dic in l]) for ki in k}"
   ]
  },
  {
   "cell_type": "code",
   "execution_count": 55,
   "metadata": {},
   "outputs": [
    {
     "name": "stdout",
     "output_type": "stream",
     "text": [
      "[1, 0]\n",
      "[1, 1]\n",
      "[1, 9]\n"
     ]
    }
   ],
   "source": [
    "k = np.unique(np.concatenate([list(li.keys()) for li in l]), axis = 0).tolist()\n",
    "for ki in k:\n",
    "    print(ki)"
   ]
  },
  {
   "cell_type": "code",
   "execution_count": 53,
   "metadata": {},
   "outputs": [
    {
     "data": {
      "text/plain": [
       "(array([1, 0]), array([1, 1]), array([1, 9]))"
      ]
     },
     "execution_count": 53,
     "metadata": {},
     "output_type": "execute_result"
    }
   ],
   "source": [
    "l[]"
   ]
  },
  {
   "cell_type": "code",
   "execution_count": 66,
   "metadata": {},
   "outputs": [],
   "source": [
    "t = transitionTable[initialState]"
   ]
  },
  {
   "cell_type": "code",
   "execution_count": 69,
   "metadata": {},
   "outputs": [],
   "source": [
    "actionDist = {(agent1Action, agent2Action): agent1ActionDist[agent1Action] * agent2ActionDist[agent2Action]\n",
    "              for agent1Action in list(agent1ActionDist.keys()) for agent2Action in\n",
    "              list(agent2ActionDist.keys())}\n",
    "\n",
    "scaleDictValues = lambda scale, dic: {dictKey: value* scale for dictKey, value in zip(dic.keys(), dic.values())}"
   ]
  },
  {
   "cell_type": "code",
   "execution_count": 73,
   "metadata": {},
   "outputs": [
    {
     "data": {
      "text/plain": [
       "{((-1, 0), (-1, 0)): 0.2,\n",
       " ((1, 0), (-1, 0)): 0.2,\n",
       " ((0, -1), (-1, 0)): 0.2,\n",
       " ((0, 1), (-1, 0)): 0.2,\n",
       " ((0, 0), (-1, 0)): 0.2}"
      ]
     },
     "execution_count": 73,
     "metadata": {},
     "output_type": "execute_result"
    }
   ],
   "source": [
    "actionDist"
   ]
  },
  {
   "cell_type": "code",
   "execution_count": 78,
   "metadata": {},
   "outputs": [],
   "source": [
    "t = {((-1, 0), (-1, 0)): {((0, 0), (3, 4)): 0.5, ((-5, -5),(6,6)): 0.5},\n",
    " ((-1, 0), (0, 1)): {((0, 0), (4, 4)): 1.0},\n",
    " ((-1, 0), (1, 0)): {((0, 0), (4, 4)): 1.0},\n",
    " ((-1, 0), (0, -1)): {((0, 0), (4, 3)): 1.0},\n",
    " ((-1, 0), (0, 0)): {((0, 0), (4, 4)): 1.0},\n",
    " ((0, 1), (-1, 0)): {((0, 1), (3, 4)): 1.0},\n",
    " ((0, 1), (0, 1)): {((0, 1), (4, 4)): 1.0},\n",
    " ((0, 1), (1, 0)): {((0, 1), (4, 4)): 1.0},\n",
    " ((0, 1), (0, -1)): {((0, 1), (4, 3)): 1.0},\n",
    " ((0, 1), (0, 0)): {((0, 1), (4, 4)): 1.0},\n",
    " ((1, 0), (-1, 0)): {((1, 0), (3, 4)): 1.0},\n",
    " ((1, 0), (0, 1)): {((1, 0), (4, 4)): 1.0},\n",
    " ((1, 0), (1, 0)): {((1, 0), (4, 4)): 1.0},\n",
    " ((1, 0), (0, -1)): {((1, 0), (4, 3)): 1.0},\n",
    " ((1, 0), (0, 0)): {((1, 0), (4, 4)): 1.0},\n",
    " ((0, -1), (-1, 0)): {((0, 0), (3, 4)): 1.0},\n",
    " ((0, -1), (0, 1)): {((0, 0), (4, 4)): 1.0},\n",
    " ((0, -1), (1, 0)): {((0, 0), (4, 4)): 1.0},\n",
    " ((0, -1), (0, -1)): {((0, 0), (4, 3)): 1.0},\n",
    " ((0, -1), (0, 0)): {((0, 0), (4, 4)): 1.0},\n",
    " ((0, 0), (-1, 0)): {((0, 0), (3, 4)): 1.0},\n",
    " ((0, 0), (0, 1)): {((0, 0), (4, 4)): 1.0},\n",
    " ((0, 0), (1, 0)): {((0, 0), (4, 4)): 1.0},\n",
    " ((0, 0), (0, -1)): {((0, 0), (4, 3)): 1.0},\n",
    " ((0, 0), (0, 0)): {((0, 0), (4, 4)): 1.0}}"
   ]
  },
  {
   "cell_type": "code",
   "execution_count": 74,
   "metadata": {},
   "outputs": [],
   "source": [
    "{((-1, 0), (-1, 0)): {((0, 0), (3, 4)): 1.0},\n",
    " ((1, 0), (-1, 0)): {((1, 0), (3, 4)): 1.0},\n",
    " ((0, -1), (-1, 0)): {((0, 0), (3, 4)): 1.0},\n",
    " ((0, 1), (-1, 0)): {((0, 1), (3, 4)): 1.0},\n",
    " ((0, 0), (-1, 0)): {((0, 0), (3, 4)): 1.0},\n"
   ]
  },
  {
   "cell_type": "code",
   "execution_count": 81,
   "metadata": {},
   "outputs": [
    {
     "data": {
      "text/plain": [
       "[{((0, 0), (3, 4)): 0.1, ((-5, -5), (6, 6)): 0.1},\n",
       " {((1, 0), (3, 4)): 0.2},\n",
       " {((0, 0), (3, 4)): 0.2},\n",
       " {((0, 1), (3, 4)): 0.2},\n",
       " {((0, 0), (3, 4)): 0.2}]"
      ]
     },
     "execution_count": 81,
     "metadata": {},
     "output_type": "execute_result"
    }
   ],
   "source": [
    "transitionDists"
   ]
  },
  {
   "cell_type": "code",
   "execution_count": 95,
   "metadata": {},
   "outputs": [
    {
     "data": {
      "text/plain": [
       "{((-5, -5), (6, 6)): 0.1,\n",
       " ((0, 0), (3, 4)): 0.5,\n",
       " ((0, 1), (3, 4)): 0.2,\n",
       " ((1, 0), (3, 4)): 0.2}"
      ]
     },
     "execution_count": 95,
     "metadata": {},
     "output_type": "execute_result"
    }
   ],
   "source": [
    "transitionDists = [scaleDictValues(scale, t[action]) for action, scale in zip(actionDist.keys(), actionDist.values())]\n",
    "possibleNextStatesWithDuplicates = [list(transition.keys()) for transition in transitionDists]\n",
    "\n",
    "possibleNextStates = np.unique(np.concatenate(possibleNextStatesWithDuplicates), axis=0)\n",
    "possibleNextStatesTuple = tuple([tuple([tuple(agentState) for agentState in agentStates]) for agentStates in possibleNextStates])\n",
    "\n",
    "transitionDistCombined = {nextState: sum([transition.get(nextState, 0) for transition in transitionDists]) for nextState in possibleNextStatesTuple}\n",
    "\n",
    "\n",
    "\n",
    "normalizeValues = lambda dic: {dictKey: value/sum(dic.values()) for dictKey, value in zip(dic.keys(), dic.values())}\n",
    "normalizeValues(transitionDistCombined)"
   ]
  },
  {
   "cell_type": "code",
   "execution_count": 90,
   "metadata": {},
   "outputs": [
    {
     "data": {
      "text/plain": [
       "(-5, -5)"
      ]
     },
     "execution_count": 90,
     "metadata": {},
     "output_type": "execute_result"
    }
   ],
   "source": [
    "# transitionDistCombined = {tuple(nextState): 1 for nextState in possibleNextStates}\n",
    "tuple(possibleNextStates[0][0])\n"
   ]
  },
  {
   "cell_type": "code",
   "execution_count": null,
   "metadata": {},
   "outputs": [],
   "source": [
    "possibleNextStatesTuple = tuple([tuple([tuple(agentState) for agentState in agentStates]) for agentStates in possibleNextStates])\n",
    "\n"
   ]
  },
  {
   "cell_type": "code",
   "execution_count": 93,
   "metadata": {},
   "outputs": [
    {
     "data": {
      "text/plain": [
       "(((-5, -5), (6, 6)), ((0, 0), (3, 4)), ((0, 1), (3, 4)), ((1, 0), (3, 4)))"
      ]
     },
     "execution_count": 93,
     "metadata": {},
     "output_type": "execute_result"
    }
   ],
   "source": [
    "tuple([tuple([tuple(agentState) for agentState in agentStates]) for agentStates in possibleNextStates])\n",
    "\n"
   ]
  },
  {
   "cell_type": "code",
   "execution_count": 92,
   "metadata": {},
   "outputs": [
    {
     "data": {
      "text/plain": [
       "array([[-5, -5],\n",
       "       [ 6,  6]])"
      ]
     },
     "execution_count": 92,
     "metadata": {},
     "output_type": "execute_result"
    }
   ],
   "source": [
    "possibleNextStates[0]"
   ]
  },
  {
   "cell_type": "code",
   "execution_count": 97,
   "metadata": {},
   "outputs": [
    {
     "data": {
      "text/plain": [
       "{(1, 0): 0.3333333333333333, (1, 1): 0.6666666666666666}"
      ]
     },
     "execution_count": 97,
     "metadata": {},
     "output_type": "execute_result"
    }
   ],
   "source": [
    "a\n",
    "normalizeValues(a)"
   ]
  },
  {
   "cell_type": "code",
   "execution_count": 100,
   "metadata": {},
   "outputs": [
    {
     "data": {
      "text/plain": [
       "False"
      ]
     },
     "execution_count": 100,
     "metadata": {},
     "output_type": "execute_result"
    }
   ],
   "source": [
    "{(1, 0): 1, (1, 1): 2} == {(1, 0): 2, (1, 1): 2}"
   ]
  },
  {
   "cell_type": "code",
   "execution_count": null,
   "metadata": {},
   "outputs": [],
   "source": []
  },
  {
   "cell_type": "code",
   "execution_count": 104,
   "metadata": {},
   "outputs": [],
   "source": [
    "a = {((-1, 0), (-1, 0)): {((0, 0), (0, 1)): 1.0}, ((-1, 0), (0, 1)): {((0, 0), (0, 2)): 1.0}, ((-1, 0), (1, 0)): {((0, 0), (1, 1)): 1.0}, ((-1, 0), (0, -1)): {((0, 0), (0, 1)): 1.0}, ((-1, 0), (0, 0)): {((0, 0), (0, 1)): 1.0}, ((0, 1), (-1, 0)): {((0, 0), (0, 1)): 1.0}, ((0, 1), (0, 1)): {((0, 1), (0, 2)): 1.0}, ((0, 1), (1, 0)): {((0, 1), (1, 1)): 1.0}, ((0, 1), (0, -1)): {((0, 1), (0, 0)): 1.0}, ((0, 1), (0, 0)): {((0, 0), (0, 1)): 1.0}, ((1, 0), (-1, 0)): {((1, 0), (0, 1)): 1.0}, ((1, 0), (0, 1)): {((1, 0), (0, 2)): 1.0}, ((1, 0), (1, 0)): {((1, 0), (1, 1)): 1.0}, ((1, 0), (0, -1)): {((1, 0), (0, 0)): 1.0}, ((1, 0), (0, 0)): {((1, 0), (0, 1)): 1.0}, ((0, -1), (-1, 0)): {((0, 0), (0, 1)): 1.0}, ((0, -1), (0, 1)): {((0, 0), (0, 2)): 1.0}, ((0, -1), (1, 0)): {((0, 0), (1, 1)): 1.0}, ((0, -1), (0, -1)): {((0, 0), (0, 1)): 1.0}, ((0, -1), (0, 0)): {((0, 0), (0, 1)): 1.0}, ((0, 0), (-1, 0)): {((0, 0), (0, 1)): 1.0}, ((0, 0), (0, 1)): {((0, 0), (0, 2)): 1.0}, ((0, 0), (1, 0)): {((0, 0), (1, 1)): 1.0}, ((0, 0), (0, -1)): {((0, 0), (0, 1)): 1.0}, ((0, 0), (0, 0)): {((0, 0), (0, 1)): 1.0}}"
   ]
  },
  {
   "cell_type": "code",
   "execution_count": 106,
   "metadata": {},
   "outputs": [],
   "source": [
    "b = {((-1, 0), (-1, 0)): {((0, 0), (0, 1)): 1.0}, ((-1, 0), (0, 1)): {((0, 0), (0, 1)): 1.0}, ((-1, 0), (1, 0)): {((0, 0), (0, 1)): 1.0}, ((-1, 0), (0, -1)): {((0, 0), (0, 1)): 1.0}, ((-1, 0), (0, 0)): {((0, 0), (0, 1)): 1.0}, ((0, 1), (-1, 0)): {((0, 0), (0, 1)): 1.0}, ((0, 1), (0, 1)): {((0, 0), (0, 1)): 1.0}, ((0, 1), (1, 0)): {((0, 0), (0, 1)): 1.0}, ((0, 1), (0, -1)): {((0, 0), (0, 1)): 1.0}, ((0, 1), (0, 0)): {((0, 0), (0, 1)): 1.0}, ((1, 0), (-1, 0)): {((0, 0), (0, 1)): 1.0}, ((1, 0), (0, 1)): {((0, 0), (0, 1)): 1.0}, ((1, 0), (1, 0)): {((0, 0), (0, 1)): 1.0}, ((1, 0), (0, -1)): {((0, 0), (0, 1)): 1.0}, ((1, 0), (0, 0)): {((0, 0), (0, 1)): 1.0}, ((0, -1), (-1, 0)): {((0, 0), (0, 1)): 1.0}, ((0, -1), (0, 1)): {((0, 0), (0, 1)): 1.0}, ((0, -1), (1, 0)): {((0, 0), (0, 1)): 1.0}, ((0, -1), (0, -1)): {((0, 0), (0, 1)): 1.0}, ((0, -1), (0, 0)): {((0, 0), (0, 1)): 1.0}, ((0, 0), (-1, 0)): {((0, 0), (0, 1)): 1.0}, ((0, 0), (0, 1)): {((0, 0), (0, 1)): 1.0}, ((0, 0), (1, 0)): {((0, 0), (0, 1)): 1.0}, ((0, 0), (0, -1)): {((0, 0), (0, 1)): 1.0}, ((0, 0), (0, 0)): {((0, 0), (0, 1)): 1.0}}"
   ]
  },
  {
   "cell_type": "code",
   "execution_count": 110,
   "metadata": {},
   "outputs": [
    {
     "data": {
      "text/plain": [
       "[{((0, 0), (0, 1)): 1.0},\n",
       " {((0, 0), (0, 2)): 1.0},\n",
       " {((0, 0), (1, 1)): 1.0},\n",
       " {((0, 0), (0, 1)): 1.0},\n",
       " {((0, 0), (0, 1)): 1.0},\n",
       " {((0, 0), (0, 1)): 1.0},\n",
       " {((0, 1), (0, 2)): 1.0},\n",
       " {((0, 1), (1, 1)): 1.0},\n",
       " {((0, 1), (0, 0)): 1.0},\n",
       " {((0, 0), (0, 1)): 1.0},\n",
       " {((1, 0), (0, 1)): 1.0},\n",
       " {((1, 0), (0, 2)): 1.0},\n",
       " {((1, 0), (1, 1)): 1.0},\n",
       " {((1, 0), (0, 0)): 1.0},\n",
       " {((1, 0), (0, 1)): 1.0},\n",
       " {((0, 0), (0, 1)): 1.0},\n",
       " {((0, 0), (0, 2)): 1.0},\n",
       " {((0, 0), (1, 1)): 1.0},\n",
       " {((0, 0), (0, 1)): 1.0},\n",
       " {((0, 0), (0, 1)): 1.0},\n",
       " {((0, 0), (0, 1)): 1.0},\n",
       " {((0, 0), (0, 2)): 1.0},\n",
       " {((0, 0), (1, 1)): 1.0},\n",
       " {((0, 0), (0, 1)): 1.0},\n",
       " {((0, 0), (0, 1)): 1.0}]"
      ]
     },
     "execution_count": 110,
     "metadata": {},
     "output_type": "execute_result"
    }
   ],
   "source": [
    "list(a.values())"
   ]
  },
  {
   "cell_type": "code",
   "execution_count": 111,
   "metadata": {},
   "outputs": [
    {
     "data": {
      "text/plain": [
       "[{((0, 0), (0, 1)): 1.0},\n",
       " {((0, 0), (0, 1)): 1.0},\n",
       " {((0, 0), (0, 1)): 1.0},\n",
       " {((0, 0), (0, 1)): 1.0},\n",
       " {((0, 0), (0, 1)): 1.0},\n",
       " {((0, 0), (0, 1)): 1.0},\n",
       " {((0, 0), (0, 1)): 1.0},\n",
       " {((0, 0), (0, 1)): 1.0},\n",
       " {((0, 0), (0, 1)): 1.0},\n",
       " {((0, 0), (0, 1)): 1.0},\n",
       " {((0, 0), (0, 1)): 1.0},\n",
       " {((0, 0), (0, 1)): 1.0},\n",
       " {((0, 0), (0, 1)): 1.0},\n",
       " {((0, 0), (0, 1)): 1.0},\n",
       " {((0, 0), (0, 1)): 1.0},\n",
       " {((0, 0), (0, 1)): 1.0},\n",
       " {((0, 0), (0, 1)): 1.0},\n",
       " {((0, 0), (0, 1)): 1.0},\n",
       " {((0, 0), (0, 1)): 1.0},\n",
       " {((0, 0), (0, 1)): 1.0},\n",
       " {((0, 0), (0, 1)): 1.0},\n",
       " {((0, 0), (0, 1)): 1.0},\n",
       " {((0, 0), (0, 1)): 1.0},\n",
       " {((0, 0), (0, 1)): 1.0},\n",
       " {((0, 0), (0, 1)): 1.0}]"
      ]
     },
     "execution_count": 111,
     "metadata": {},
     "output_type": "execute_result"
    }
   ],
   "source": [
    "list(b.values())"
   ]
  },
  {
   "cell_type": "code",
   "execution_count": null,
   "metadata": {},
   "outputs": [],
   "source": []
  },
  {
   "cell_type": "code",
   "execution_count": 113,
   "metadata": {},
   "outputs": [],
   "source": [
    "policy_pudd = {((-1, 0), (-1, 0)): {((0, 0), (3, 4)): 0.2, ((0, 1), (3, 4)): 0.4, ((0, 2), (3, 4)): 0.2, ((1, 1), (3, 4)): 0.2}, ((-1, 0), (0, 1)): {((0, 0), (4, 4)): 0.2, ((0, 1), (4, 4)): 0.4, ((0, 2), (4, 4)): 0.2, ((1, 1), (4, 4)): 0.2}, ((-1, 0), (1, 0)): {((0, 0), (4, 4)): 0.2, ((0, 1), (4, 4)): 0.4, ((0, 2), (4, 4)): 0.2, ((1, 1), (4, 4)): 0.2}, ((-1, 0), (0, -1)): {((0, 0), (4, 3)): 0.2, ((0, 1), (4, 3)): 0.4, ((0, 2), (4, 3)): 0.2, ((1, 1), (4, 3)): 0.2}, ((-1, 0), (0, 0)): {((0, 0), (4, 4)): 0.2, ((0, 1), (4, 4)): 0.4, ((0, 2), (4, 4)): 0.2, ((1, 1), (4, 4)): 0.2}, ((0, 1), (-1, 0)): {((0, 0), (3, 4)): 0.2, ((0, 1), (3, 4)): 0.4, ((0, 2), (3, 4)): 0.2, ((1, 1), (3, 4)): 0.2}, ((0, 1), (0, 1)): {((0, 0), (4, 4)): 0.2, ((0, 1), (4, 4)): 0.4, ((0, 2), (4, 4)): 0.2, ((1, 1), (4, 4)): 0.2}, ((0, 1), (1, 0)): {((0, 0), (4, 4)): 0.2, ((0, 1), (4, 4)): 0.4, ((0, 2), (4, 4)): 0.2, ((1, 1), (4, 4)): 0.2}, ((0, 1), (0, -1)): {((0, 0), (4, 3)): 0.2, ((0, 1), (4, 3)): 0.4, ((0, 2), (4, 3)): 0.2, ((1, 1), (4, 3)): 0.2}, ((0, 1), (0, 0)): {((0, 0), (4, 4)): 0.2, ((0, 1), (4, 4)): 0.4, ((0, 2), (4, 4)): 0.2, ((1, 1), (4, 4)): 0.2}, ((1, 0), (-1, 0)): {((0, 0), (3, 4)): 0.2, ((0, 1), (3, 4)): 0.4, ((0, 2), (3, 4)): 0.2, ((1, 1), (3, 4)): 0.2}, ((1, 0), (0, 1)): {((0, 0), (4, 4)): 0.2, ((0, 1), (4, 4)): 0.4, ((0, 2), (4, 4)): 0.2, ((1, 1), (4, 4)): 0.2}, ((1, 0), (1, 0)): {((0, 0), (4, 4)): 0.2, ((0, 1), (4, 4)): 0.4, ((0, 2), (4, 4)): 0.2, ((1, 1), (4, 4)): 0.2}, ((1, 0), (0, -1)): {((0, 0), (4, 3)): 0.2, ((0, 1), (4, 3)): 0.4, ((0, 2), (4, 3)): 0.2, ((1, 1), (4, 3)): 0.2}, ((1, 0), (0, 0)): {((0, 0), (4, 4)): 0.2, ((0, 1), (4, 4)): 0.4, ((0, 2), (4, 4)): 0.2, ((1, 1), (4, 4)): 0.2}, ((0, -1), (-1, 0)): {((0, 0), (3, 4)): 0.2, ((0, 1), (3, 4)): 0.4, ((0, 2), (3, 4)): 0.2, ((1, 1), (3, 4)): 0.2}, ((0, -1), (0, 1)): {((0, 0), (4, 4)): 0.2, ((0, 1), (4, 4)): 0.4, ((0, 2), (4, 4)): 0.2, ((1, 1), (4, 4)): 0.2}, ((0, -1), (1, 0)): {((0, 0), (4, 4)): 0.2, ((0, 1), (4, 4)): 0.4, ((0, 2), (4, 4)): 0.2, ((1, 1), (4, 4)): 0.2}, ((0, -1), (0, -1)): {((0, 0), (4, 3)): 0.2, ((0, 1), (4, 3)): 0.4, ((0, 2), (4, 3)): 0.2, ((1, 1), (4, 3)): 0.2}, ((0, -1), (0, 0)): {((0, 0), (4, 4)): 0.2, ((0, 1), (4, 4)): 0.4, ((0, 2), (4, 4)): 0.2, ((1, 1), (4, 4)): 0.2}, ((0, 0), (-1, 0)): {((0, 0), (3, 4)): 0.2, ((0, 1), (3, 4)): 0.4, ((0, 2), (3, 4)): 0.2, ((1, 1), (3, 4)): 0.2}, ((0, 0), (0, 1)): {((0, 0), (4, 4)): 0.2, ((0, 1), (4, 4)): 0.4, ((0, 2), (4, 4)): 0.2, ((1, 1), (4, 4)): 0.2}, ((0, 0), (1, 0)): {((0, 0), (4, 4)): 0.2, ((0, 1), (4, 4)): 0.4, ((0, 2), (4, 4)): 0.2, ((1, 1), (4, 4)): 0.2}, ((0, 0), (0, -1)): {((0, 0), (4, 3)): 0.2, ((0, 1), (4, 3)): 0.4, ((0, 2), (4, 3)): 0.2, ((1, 1), (4, 3)): 0.2}, ((0, 0), (0, 0)): {((0, 0), (4, 4)): 0.2, ((0, 1), (4, 4)): 0.4, ((0, 2), (4, 4)): 0.2, ((1, 1), (4, 4)): 0.2}}"
   ]
  },
  {
   "cell_type": "code",
   "execution_count": 115,
   "metadata": {},
   "outputs": [
    {
     "data": {
      "text/plain": [
       "{(-1,\n",
       "  0): [{((0, 0), (3, 4)): 0.2,\n",
       "   ((0, 1), (3, 4)): 0.4,\n",
       "   ((0, 2), (3, 4)): 0.2,\n",
       "   ((1, 1), (3, 4)): 0.2}, {((0, 0), (4, 4)): 0.2,\n",
       "   ((0, 1), (4, 4)): 0.4,\n",
       "   ((0, 2), (4, 4)): 0.2,\n",
       "   ((1, 1), (4, 4)): 0.2}, {((0, 0), (4, 4)): 0.2,\n",
       "   ((0, 1), (4, 4)): 0.4,\n",
       "   ((0, 2), (4, 4)): 0.2,\n",
       "   ((1, 1), (4, 4)): 0.2}, {((0, 0), (4, 3)): 0.2,\n",
       "   ((0, 1), (4, 3)): 0.4,\n",
       "   ((0, 2), (4, 3)): 0.2,\n",
       "   ((1, 1), (4, 3)): 0.2}, {((0, 0), (4, 4)): 0.2,\n",
       "   ((0, 1), (4, 4)): 0.4,\n",
       "   ((0, 2), (4, 4)): 0.2,\n",
       "   ((1, 1), (4, 4)): 0.2}],\n",
       " (1,\n",
       "  0): [{((0, 0), (3, 4)): 0.2,\n",
       "   ((0, 1), (3, 4)): 0.4,\n",
       "   ((0, 2), (3, 4)): 0.2,\n",
       "   ((1, 1), (3, 4)): 0.2}, {((0, 0), (4, 4)): 0.2,\n",
       "   ((0, 1), (4, 4)): 0.4,\n",
       "   ((0, 2), (4, 4)): 0.2,\n",
       "   ((1, 1), (4, 4)): 0.2}, {((0, 0), (4, 4)): 0.2,\n",
       "   ((0, 1), (4, 4)): 0.4,\n",
       "   ((0, 2), (4, 4)): 0.2,\n",
       "   ((1, 1), (4, 4)): 0.2}, {((0, 0), (4, 3)): 0.2,\n",
       "   ((0, 1), (4, 3)): 0.4,\n",
       "   ((0, 2), (4, 3)): 0.2,\n",
       "   ((1, 1), (4, 3)): 0.2}, {((0, 0), (4, 4)): 0.2,\n",
       "   ((0, 1), (4, 4)): 0.4,\n",
       "   ((0, 2), (4, 4)): 0.2,\n",
       "   ((1, 1), (4, 4)): 0.2}],\n",
       " (0,\n",
       "  1): [{((0, 0), (3, 4)): 0.2,\n",
       "   ((0, 1), (3, 4)): 0.4,\n",
       "   ((0, 2), (3, 4)): 0.2,\n",
       "   ((1, 1), (3, 4)): 0.2}, {((0, 0), (4, 4)): 0.2,\n",
       "   ((0, 1), (4, 4)): 0.4,\n",
       "   ((0, 2), (4, 4)): 0.2,\n",
       "   ((1, 1), (4, 4)): 0.2}, {((0, 0), (4, 4)): 0.2,\n",
       "   ((0, 1), (4, 4)): 0.4,\n",
       "   ((0, 2), (4, 4)): 0.2,\n",
       "   ((1, 1), (4, 4)): 0.2}, {((0, 0), (4, 3)): 0.2,\n",
       "   ((0, 1), (4, 3)): 0.4,\n",
       "   ((0, 2), (4, 3)): 0.2,\n",
       "   ((1, 1), (4, 3)): 0.2}, {((0, 0), (4, 4)): 0.2,\n",
       "   ((0, 1), (4, 4)): 0.4,\n",
       "   ((0, 2), (4, 4)): 0.2,\n",
       "   ((1, 1), (4, 4)): 0.2}],\n",
       " (0,\n",
       "  -1): [{((0, 0), (3, 4)): 0.2,\n",
       "   ((0, 1), (3, 4)): 0.4,\n",
       "   ((0, 2), (3, 4)): 0.2,\n",
       "   ((1, 1), (3, 4)): 0.2}, {((0, 0), (4, 4)): 0.2,\n",
       "   ((0, 1), (4, 4)): 0.4,\n",
       "   ((0, 2), (4, 4)): 0.2,\n",
       "   ((1, 1), (4, 4)): 0.2}, {((0, 0), (4, 4)): 0.2,\n",
       "   ((0, 1), (4, 4)): 0.4,\n",
       "   ((0, 2), (4, 4)): 0.2,\n",
       "   ((1, 1), (4, 4)): 0.2}, {((0, 0), (4, 3)): 0.2,\n",
       "   ((0, 1), (4, 3)): 0.4,\n",
       "   ((0, 2), (4, 3)): 0.2,\n",
       "   ((1, 1), (4, 3)): 0.2}, {((0, 0), (4, 4)): 0.2,\n",
       "   ((0, 1), (4, 4)): 0.4,\n",
       "   ((0, 2), (4, 4)): 0.2,\n",
       "   ((1, 1), (4, 4)): 0.2}],\n",
       " (0,\n",
       "  0): [{((0, 0), (3, 4)): 0.2,\n",
       "   ((0, 1), (3, 4)): 0.4,\n",
       "   ((0, 2), (3, 4)): 0.2,\n",
       "   ((1, 1), (3, 4)): 0.2}, {((0, 0), (4, 4)): 0.2,\n",
       "   ((0, 1), (4, 4)): 0.4,\n",
       "   ((0, 2), (4, 4)): 0.2,\n",
       "   ((1, 1), (4, 4)): 0.2}, {((0, 0), (4, 4)): 0.2,\n",
       "   ((0, 1), (4, 4)): 0.4,\n",
       "   ((0, 2), (4, 4)): 0.2,\n",
       "   ((1, 1), (4, 4)): 0.2}, {((0, 0), (4, 3)): 0.2,\n",
       "   ((0, 1), (4, 3)): 0.4,\n",
       "   ((0, 2), (4, 3)): 0.2,\n",
       "   ((1, 1), (4, 3)): 0.2}, {((0, 0), (4, 4)): 0.2,\n",
       "   ((0, 1), (4, 4)): 0.4,\n",
       "   ((0, 2), (4, 4)): 0.2,\n",
       "   ((1, 1), (4, 4)): 0.2}]}"
      ]
     },
     "execution_count": 115,
     "metadata": {},
     "output_type": "execute_result"
    }
   ],
   "source": [
    "{action1: [policy_pudd[(action1, action2)] for action2 in actionSpace] for action1 in actionSpace}\n"
   ]
  },
  {
   "cell_type": "code",
   "execution_count": 117,
   "metadata": {},
   "outputs": [
    {
     "data": {
      "text/plain": [
       "{(-1, 0): {((0, 0), (3, 4)): 0.2,\n",
       "  ((0, 1), (3, 4)): 0.4,\n",
       "  ((0, 2), (3, 4)): 0.2,\n",
       "  ((1, 1), (3, 4)): 0.2},\n",
       " (1, 0): {((0, 0), (3, 4)): 0.2,\n",
       "  ((0, 1), (3, 4)): 0.4,\n",
       "  ((0, 2), (3, 4)): 0.2,\n",
       "  ((1, 1), (3, 4)): 0.2},\n",
       " (0, 1): {((0, 0), (3, 4)): 0.2,\n",
       "  ((0, 1), (3, 4)): 0.4,\n",
       "  ((0, 2), (3, 4)): 0.2,\n",
       "  ((1, 1), (3, 4)): 0.2},\n",
       " (0, -1): {((0, 0), (3, 4)): 0.2,\n",
       "  ((0, 1), (3, 4)): 0.4,\n",
       "  ((0, 2), (3, 4)): 0.2,\n",
       "  ((1, 1), (3, 4)): 0.2},\n",
       " (0, 0): {((0, 0), (3, 4)): 0.2,\n",
       "  ((0, 1), (3, 4)): 0.4,\n",
       "  ((0, 2), (3, 4)): 0.2,\n",
       "  ((1, 1), (3, 4)): 0.2}}"
      ]
     },
     "execution_count": 117,
     "metadata": {},
     "output_type": "execute_result"
    }
   ],
   "source": [
    "action2 = (-1, 0)\n",
    "{action1: policy_pudd[(action1, action2)] for action1 in actionSpace}"
   ]
  },
  {
   "cell_type": "code",
   "execution_count": 118,
   "metadata": {},
   "outputs": [],
   "source": [
    "policy_pudd = {((-1, 0), (-1, 0)): 0.0004555442327720293, ((-1, 0), (0, 1)): 0.0004555442327720293, ((-1, 0), (1, 0)): 0.0004555442327720293, ((-1, 0), (0, -1)): 0.024231917428378217, ((-1, 0), (0, 0)): 0.0067783759724608155, ((0, 1), (-1, 0)): 0.002322973921571803, ((0, 1), (0, 1)): 0.002322973921571803, ((0, 1), (1, 0)): 0.002322973921571803, ((0, 1), (0, -1)): 0.024231917428378217, ((0, 1), (0, 0)): 0.03456522875686419, ((1, 0), (-1, 0)): 0.017360477595931404, ((1, 0), (0, 1)): 0.017360477595931404, ((1, 0), (1, 0)): 0.017360477595931404, ((1, 0), (0, -1)): 0.07731942338935156, ((1, 0), (0, 0)): 0.258319249243124, ((0, -1), (-1, 0)): 0.0004555442327720293, ((0, -1), (0, 1)): 0.0004555442327720293, ((0, -1), (1, 0)): 0.0004555442327720293, ((0, -1), (0, -1)): 0.024231917428378217, ((0, -1), (0, 0)): 0.0067783759724608155, ((0, 0), (-1, 0)): 0.0067783759724608155, ((0, 0), (0, 1)): 0.0067783759724608155, ((0, 0), (1, 0)): 0.0067783759724608155, ((0, 0), (0, -1)): 0.3605644305135387, ((0, 0), (0, 0)): 0.10086041600054105}"
   ]
  },
  {
   "cell_type": "code",
   "execution_count": 120,
   "metadata": {},
   "outputs": [
    {
     "data": {
      "text/plain": [
       "{(-1, 0): 0.03237692609915512,\n",
       " (1, 0): 0.3877201054202698,\n",
       " (0, 1): 0.06576606794995782,\n",
       " (0, -1): 0.03237692609915512,\n",
       " (0, 0): 0.48175997443146223}"
      ]
     },
     "execution_count": 120,
     "metadata": {},
     "output_type": "execute_result"
    }
   ],
   "source": [
    "{action1: sum([policy_pudd[(action1, action2)] for action2 in actionSpace]) for action1 in actionSpace}\n"
   ]
  },
  {
   "cell_type": "code",
   "execution_count": 121,
   "metadata": {},
   "outputs": [
    {
     "data": {
      "text/plain": [
       "{(-1, 0): 0.027372915955508084,\n",
       " (1, 0): 0.027372915955508084,\n",
       " (0, 1): 0.027372915955508084,\n",
       " (0, -1): 0.5105796061880249,\n",
       " (0, 0): 0.40730164594545093}"
      ]
     },
     "execution_count": 121,
     "metadata": {},
     "output_type": "execute_result"
    }
   ],
   "source": [
    "{action2: sum([policy_pudd[(action1, action2)] for action1 in actionSpace]) for action2 in actionSpace}\n",
    "\n"
   ]
  },
  {
   "cell_type": "code",
   "execution_count": 124,
   "metadata": {},
   "outputs": [],
   "source": [
    "policy_pudd1= {((-1, 0), (-1, 0)): 0.0017828406305877775, ((-1, 0), (0, 1)): 0.0003700343678171849, ((-1, 0), (1, 0)): 0.0017828406305877775, ((-1, 0), (0, -1)): 0.022502948406436615, ((-1, 0), (0, 0)): 0.02652819029134927, ((0, 1), (-1, 0)): 0.0017828406305877775, ((0, 1), (0, 1)): 0.0003700343678171849, ((0, 1), (1, 0)): 0.0017828406305877775, ((0, 1), (0, -1)): 0.022502948406436615, ((0, 1), (0, 0)): 0.02652819029134927, ((1, 0), (-1, 0)): 0.0017828406305877775, ((1, 0), (0, 1)): 0.0003700343678171849, ((1, 0), (1, 0)): 0.0017828406305877775, ((1, 0), (0, -1)): 0.022502948406436615, ((1, 0), (0, 0)): 0.02652819029134927, ((0, -1), (-1, 0)): 0.0017828406305877775, ((0, -1), (0, 1)): 0.0003700343678171849, ((0, -1), (1, 0)): 0.0017828406305877775, ((0, -1), (0, -1)): 0.022502948406436615, ((0, -1), (0, 0)): 0.02652819029134927, ((0, 0), (-1, 0)): 0.02652819029134927, ((0, 0), (0, 1)): 0.005506012122102616, ((0, 0), (1, 0)): 0.02652819029134927, ((0, 0), (0, -1)): 0.3348378353064301, ((0, 0), (0, 0)): 0.3947323546816544}"
   ]
  },
  {
   "cell_type": "code",
   "execution_count": 125,
   "metadata": {},
   "outputs": [
    {
     "data": {
      "text/plain": [
       "{(-1, 0): 0.03365955281370038,\n",
       " (1, 0): 0.03365955281370038,\n",
       " (0, 1): 0.006986149593371355,\n",
       " (0, -1): 0.42484962893217654,\n",
       " (0, 0): 0.5008451158470515}"
      ]
     },
     "execution_count": 125,
     "metadata": {},
     "output_type": "execute_result"
    }
   ],
   "source": [
    "{action2: sum([policy_pudd1[(action1, action2)] for action1 in actionSpace]) for action2 in actionSpace}\n",
    "\n"
   ]
  },
  {
   "cell_type": "code",
   "execution_count": 126,
   "metadata": {},
   "outputs": [
    {
     "data": {
      "text/plain": [
       "{(-1, 0): 0.052966854326778626,\n",
       " (1, 0): 0.052966854326778626,\n",
       " (0, 1): 0.052966854326778626,\n",
       " (0, -1): 0.052966854326778626,\n",
       " (0, 0): 0.7881325826928857}"
      ]
     },
     "execution_count": 126,
     "metadata": {},
     "output_type": "execute_result"
    }
   ],
   "source": [
    "{action1: sum([policy_pudd1[(action1, action2)] for action2 in actionSpace]) for action1 in actionSpace}\n",
    "\n"
   ]
  },
  {
   "cell_type": "code",
   "execution_count": null,
   "metadata": {},
   "outputs": [],
   "source": []
  }
 ],
 "metadata": {
  "kernelspec": {
   "display_name": "Python 3",
   "language": "python",
   "name": "python3"
  },
  "language_info": {
   "codemirror_mode": {
    "name": "ipython",
    "version": 3
   },
   "file_extension": ".py",
   "mimetype": "text/x-python",
   "name": "python",
   "nbconvert_exporter": "python",
   "pygments_lexer": "ipython3",
   "version": "3.7.3"
  }
 },
 "nbformat": 4,
 "nbformat_minor": 2
}
